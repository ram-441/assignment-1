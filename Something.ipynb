{
 "cells": [
  {
   "cell_type": "code",
   "execution_count": null,
   "id": "414e8bd8-05d8-4248-9f53-5481d4d71ff1",
   "metadata": {},
   "outputs": [
    {
     "name": "stdout",
     "output_type": "stream",
     "text": [
      "What's your name?\n"
     ]
    }
   ],
   "source": [
    "print(\"What's your name?\")\n",
    "name = input()\n",
    "print(\"What's your age?\")\n",
    "\n",
    "age = input()\n",
    "\n",
    "print(\"Hi, \" + name + \" you are \" + age + \" years old.\")"
   ]
  }
 ],
 "metadata": {
  "kernelspec": {
   "display_name": "Python 3 (ipykernel)",
   "language": "python",
   "name": "python3"
  },
  "language_info": {
   "codemirror_mode": {
    "name": "ipython",
    "version": 3
   },
   "file_extension": ".py",
   "mimetype": "text/x-python",
   "name": "python",
   "nbconvert_exporter": "python",
   "pygments_lexer": "ipython3",
   "version": "3.12.4"
  }
 },
 "nbformat": 4,
 "nbformat_minor": 5
}
